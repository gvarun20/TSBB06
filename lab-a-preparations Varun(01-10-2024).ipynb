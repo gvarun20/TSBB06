{
 "cells": [
  {
   "cell_type": "markdown",
   "metadata": {
    "deletable": false,
    "editable": false,
    "nbgrader": {
     "cell_type": "markdown",
     "checksum": "ebdb27c1677015490e9616923784e356",
     "grade": false,
     "grade_id": "cell-intro-description",
     "locked": true,
     "schema_version": 3,
     "solution": false,
     "task": false
    }
   },
   "source": [
    "# Lab A &mdash; Preparations 2024\n",
    "\n",
    "In this course we primarily use *homogeneous* (or *dual homogeneous*) representations of geometric objects and geometric transformations.\n",
    "As preparation for this lab, you must make sure that you understand the basic properties of such homogeneous representations.\n",
    "\n",
    "**You must answer all four questions correctly**, so:\n",
    "<ol>\n",
    "    <li><i>Read the questions carefully</i> to avoid any misinterpretation.</li>\n",
    "    <li>\n",
    "        <i>Be absolutely certain of your answers</i>.\n",
    "        Do not make lazy or wild guesses &mdash; review the relevant material if you are uncertain.\n",
    "    </li>\n",
    "</ol>\n",
    "\n",
    "**NOTE:** If your notebook raises exceptions (for example, if you forget to remove all instances of <code>raise NotImplementedError()</code>), the autograder will be throw a tantrum and give you score zero.\n",
    "Likewise, if you do not define the variable <code>answer</code> (for example, if you prepend it with <code>#</code> to turn it into a comment), the autograder will disapprove.\n",
    "You should be able to select <code>Kernel</code>&ndash;><code>Restart &amp; Run All</code> from the menu above, and not get any errors in your output.\n",
    "\n",
    "<b>Good luck!</b>"
   ]
  },
  {
   "cell_type": "markdown",
   "metadata": {
    "deletable": false,
    "editable": false,
    "nbgrader": {
     "cell_type": "markdown",
     "checksum": "14dbf7410e69d940c3a5a67d4c9dcc61",
     "grade": false,
     "grade_id": "cell-question-1-options",
     "locked": true,
     "schema_version": 3,
     "solution": false,
     "task": false
    }
   },
   "source": [
    "## Question 1: Homogeneous representations of points and lines in 2D\n",
    "\n",
    "Which of the following statements are true?\n",
    "(Give your answer in the next cell.)\n",
    "\n",
    "<ol style=\"list-style-type: upper-alpha;\">\n",
    "    <li>If $\\mathbf{y} = (y_1,y_2,y_3)$, then $\\mathbf{y}$ represents a <i>proper point</i> whenever $y_3 = 1$, and an <i>ideal point</i> (point at infinity) whenever $y_3 \\neq 1$.</li>\n",
    "    <li>If $\\mathbf{y} = (y_1,y_2,y_3)$, then $\\mathbf{y}$ represents a <i>proper point</i> whenever $y_3 \\neq 0$, and an <i>ideal point</i> (point at infinity) whenever $y_3 = 0$.</li>\n",
    "    <li>If $\\mathbf{y}_1,\\mathbf{y}_2 \\in \\mathbb{R}^3$ are homogeneous coordinates, they represent the same point precisely when $\\mathbf{y}_1^\\top \\mathbf{y}_2 = 0$.</li>\n",
    "    <li>A line with homogeneous coordinates $\\mathbf{l} = (l_1,l_2,l_3)$ passes through the origin precisely when $l_3 = 0$.</li>\n",
    "    <li>The point with homogeneous coordinates $\\mathbf{y} = (1,1,0)$ is an <i>ideal point</i>, and therefore lies on every line.</li>\n",
    "    <li>If $\\mathbf{l}_1,\\mathbf{l}_2 \\in \\mathbb{R}^3$ are dual homogeneous coordinates, they represent the same line precisely when $\\mathbf{l}_1 \\times \\mathbf{l}_2 = \\mathbf{0}$.</li>\n",
    "    <li>If $\\mathbf{y}_1,\\mathbf{y}_2 \\in \\mathbb{R}^3$ are homogeneous coordinates representing <i>distinct</i> points in the extended Euclidean plane, there exists a unique line through $\\mathbf{y}_1$ and $\\mathbf{y}_2$, and this line is represented by the dual homogeneous coordinates $\\mathbf{l} = \\mathbf{y}_1 \\times \\mathbf{y}_2$.</li>\n",
    "    <li>If $\\mathbf{y}_1,\\mathbf{y}_2,\\mathbf{y}_3 \\in \\mathbb{R}^3$ are homogeneous coordinates, they represent collinear points precisely when $\\mathbf{y}_3^\\top(\\mathbf{y}_1 \\times \\mathbf{y}_2) = 0$.</li>\n",
    "    <li>If $\\mathbf{y}_1$ and $\\mathbf{y}_2$ are homogeneous coordinates representing <i>proper points</i>, the Euclidean distance between them is $d_\\text{PP}(\\mathbf{y}_1,\\mathbf{y}_2) = \\big\\lVert \\operatorname{norm_\\text{P}}(\\mathbf{y}_2-\\mathbf{y}_1) \\big\\rVert$.</li>\n",
    "    <li>If $\\mathbf{y}$ represents a <i>proper point</i> and $\\mathbf{l}$ represents a <i>proper line</i>, then the Euclidean distance between them is $d = \\big\\lvert (\\operatorname{norm_\\text{D}}\\mathbf{l})^\\top (\\operatorname{norm_\\text{P}}\\mathbf{y}) \\big\\rvert$.</li>\n",
    "</ol>"
   ]
  },
  {
   "cell_type": "code",
   "execution_count": 1,
   "metadata": {
    "deletable": false,
    "nbgrader": {
     "cell_type": "code",
     "checksum": "b04ee18d22e8647f98314b99d7b5fc18",
     "grade": false,
     "grade_id": "cell-question-1-answer",
     "locked": false,
     "schema_version": 3,
     "solution": true,
     "task": false
    }
   },
   "outputs": [],
   "source": [
    "# Set the variable 'answer' to a string containing the labels of all the true statements above.\n",
    "# For example, if you believe A and C are the only true statements, you should write:\n",
    "#\n",
    "#answer = 'AC'\n",
    "\n",
    "# YOUR CODE HERE\n",
    "answer ='BDFGHJ'#B, D, F, G, H, I, J"
   ]
  },
  {
   "cell_type": "code",
   "execution_count": 2,
   "metadata": {
    "deletable": false,
    "editable": false,
    "nbgrader": {
     "cell_type": "code",
     "checksum": "9c206c42d1686687897e952826d06f69",
     "grade": true,
     "grade_id": "cell-question-1-check",
     "locked": true,
     "points": 1,
     "schema_version": 3,
     "solution": false,
     "task": false
    }
   },
   "outputs": [],
   "source": [
    "# This cell checks your answer when submitted. Please ignore."
   ]
  },
  {
   "cell_type": "markdown",
   "metadata": {
    "deletable": false,
    "editable": false,
    "nbgrader": {
     "cell_type": "markdown",
     "checksum": "a3441c3da24c553ee78e40490bd130d0",
     "grade": false,
     "grade_id": "cell-question-2-options",
     "locked": true,
     "schema_version": 3,
     "solution": false,
     "task": false
    }
   },
   "source": [
    "## Question 2: Homogeneous representations of transformations in 2D\n",
    "\n",
    "Which of the following statements are true?\n",
    "(Give your answer in the next cell.)\n",
    "<ol style=\"list-style-type: upper-alpha;\">\n",
    "    <li>Two (non-singular) matrices $\\mathbf{T}_1,\\mathbf{T}_2 \\in \\mathbb{R}^{3\\times3}$ represent the same transformation precisely when $\\mathbf{T}_1 \\sim \\mathbf{T}_2$.</li>\n",
    "    <li>If $\\mathbf{T}_1,\\mathbf{T}_2 \\in \\mathbb{R}^{3\\times3}$ represent transformations, then the composite transformation $\\mathbf{T}_1\\mathbf{T}_2$ corresponds to <i>first</i> applying $\\mathbf{T}_2$ and then applying $\\mathbf{T}_1$.</li>\n",
    "    <li>Rigid transformations can transform ideal points into proper points (and vice versa).</li>\n",
    "    <li>If a transformation $\\mathbf{T} \\in \\mathbb{R}^{3\\times3}$ is applied to all points in the extended Euclidean plane according to $\\mathbf{y}' \\sim \\mathbf{T}\\mathbf{y}$, then lines are transformed as $\\mathbf{l}' \\sim \\mathbf{T}^\\top \\mathbf{l}$ (in both cases, primed coordinates are the transformed ones).</li>\n",
    "    <li>If a transformation $\\mathbf{T} \\in \\mathbb{R}^{3\\times3}$ is applied to all points in the extended Euclidean plane according to $\\mathbf{y}' \\sim \\mathbf{T}\\mathbf{y}$, then lines are transformed as $\\mathbf{l}' \\sim \\mathbf{T}^{-1}\\mathbf{l}$ (in both cases, primed coordinates are the transformed ones).</li>\n",
    "    <li>If $\\mathbf{T} \\in \\mathbb{R}^{3\\times3}$ represents a rigid transformation, then the inverse transformation is represented by $\\mathbf{T}^{-1}$, and this is <i>also</i> a rigid transformation.</li>\n",
    "    <li>If $\\mathbf{T} \\in \\mathbb{R}^{3\\times3}$ represents a rigid transformation, then the transformation $\\mathbf{T}^\\top$ also represents a rigid transformation.</li>\n",
    "    <li>A homography is represented by an invertible $3\\times3$ matrix with $3\\cdot3 = 9$ elements, and in consequence it has nine <i>degrees of freedom</i> (DoF).</li>\n",
    "    <li>In contrast to homographies, affine transformations preserve distances between points and angles between lines.</li>\n",
    "    <li>\n",
    "        Let $\\mathscr{H}$ be the set of homography transformations, let $\\mathscr{A}$ be the set of affine transformations, let $\\mathscr{S}$ be the set of similarity transformations, and let $\\mathscr{R}$ be the set of rigid transformations.\n",
    "        Then $\\mathscr{R} \\subset \\mathscr{S} \\subset \\mathscr{A} \\subset \\mathscr{H}$.\n",
    "    </li>\n",
    "</ol>"
   ]
  },
  {
   "cell_type": "code",
   "execution_count": 3,
   "metadata": {
    "deletable": false,
    "nbgrader": {
     "cell_type": "code",
     "checksum": "a2eee11ebafbf3072dfc0d2f87165c60",
     "grade": false,
     "grade_id": "cell-question-2-answer",
     "locked": false,
     "schema_version": 3,
     "solution": true,
     "task": false
    }
   },
   "outputs": [],
   "source": [
    "# Set the variable 'answer' to a string containing the labels of all the true statements above.\n",
    "# For example, if you believe A and C are the only true statements, you should write:\n",
    "#\n",
    "# answer = 'AC'\n",
    "\n",
    "# YOUR CODE HERE\n",
    "answer ='ABFJ' # A,B, D, F, JA, B, E, F, H, J"
   ]
  },
  {
   "cell_type": "code",
   "execution_count": 4,
   "metadata": {
    "deletable": false,
    "editable": false,
    "nbgrader": {
     "cell_type": "code",
     "checksum": "84cd70203c80a9fe47f9f6f128916109",
     "grade": true,
     "grade_id": "cell-question-2-check",
     "locked": true,
     "points": 1,
     "schema_version": 3,
     "solution": false,
     "task": false
    }
   },
   "outputs": [],
   "source": [
    "# This cell checks your answer when submitted. Please ignore."
   ]
  },
  {
   "cell_type": "markdown",
   "metadata": {
    "deletable": false,
    "editable": false,
    "nbgrader": {
     "cell_type": "markdown",
     "checksum": "9955bff1ca772b4df8df5a4c6957d387",
     "grade": false,
     "grade_id": "cell-question-3-options",
     "locked": true,
     "schema_version": 3,
     "solution": false,
     "task": false
    }
   },
   "source": [
    "## Question 3: The DLT Constraints\n",
    "\n",
    "### Review of the Derivation\n",
    "\n",
    "In the lectures, we derived the *Direct Linear Transformation* (DLT) constraints for the homography estimation problem in the following way:\n",
    "\n",
    "Given (homogeneous) point correspondences $\\mathbf{y}_k \\leftrightarrow \\mathbf{y}_k'$, the objective is to find a homography matrix $\\mathbf{H}$ such that $\\mathbf{y}_k' \\sim \\mathbf{H}\\mathbf{y}_k$.\n",
    "Using the cross product to rewrite this last relation, we obtain\n",
    "\n",
    "$$\n",
    "\\mathbf{y}_k' \\sim \\mathbf{H}\\mathbf{y}_k \\iff\n",
    "\\mathbf{y}_k' \\times \\mathbf{H}\\mathbf{y}_k = \\mathbf{0} \\iff\n",
    "[\\mathbf{y}_k']_\\times \\mathbf{H}\\mathbf{y}_k = \\mathbf{0}.\n",
    "$$\n",
    "\n",
    "Rewriting this using the [$\\operatorname{vec}$ operator](https://en.wikipedia.org/wiki/Vectorization_(mathematics))  and the [Kronecker product](https://en.wikipedia.org/wiki/Kronecker_product) $\\otimes$ (i.e., by applying the $\\operatorname{vec}$ operator to both sides) yields the *DLT constraint*\n",
    "\n",
    "$$\n",
    "\\big(\\mathbf{y}_k^\\top \\otimes [\\mathbf{y}_k']_\\times\\big) \\operatorname{vec}{\\mathbf{H}} = \\mathbf{0},\n",
    "$$\n",
    "\n",
    "which is a system of three linear equations in the nine unknowns in $\\mathbf{H}$.\n",
    "These three equations are always linearly dependent, and as a result, one of the equations can always be eliminated.\n",
    "For this reason, it is common to only use the first two equations (this is safe if all $\\mathbf{y}_k$ and $\\mathbf{y}_k'$ are <i>proper points</i>).\n",
    "\n",
    "### The Actual Question\n",
    "\n",
    "Let $\\mathbf{y}_k = (u_k,v_k,1)$ and $\\mathbf{y}_k' = (u_k',v_k',1)$, and let $\\mathbf{M}_k$ be the first two rows of $\\mathbf{y}_k^\\top \\otimes [\\mathbf{y}_k']_\\times$, i.e., $\\mathbf{M}_k = \\big(\\begin{smallmatrix} 1 & 0 & 0 \\\\ 0 & 1 & 0 \\end{smallmatrix}\\big) \\big(\\mathbf{y}_k^\\top \\otimes [\\mathbf{y}_k']_\\times\\big)$.\n",
    "Let $\\mathbf{A}_k$ be defined by Equation (13.13) in <i><a href=\"https://urn.kb.se/resolve?urn=urn:nbn:se:liu:diva-140019\">IREG (version 0.40)</a></i>.\n",
    "\n",
    "Which of the following statements are true?\n",
    "(Give your answer in the next cell.)\n",
    "<ol style=\"list-style-type: upper-alpha;\">\n",
    "    <li>The two matrices $\\mathbf{A}_k$ and $\\mathbf{M}_k$ are <i>equal</i>, i.e. $\\mathbf{A}_k = \\mathbf{M}_k$.</li>\n",
    "    <li>The two matrices $\\mathbf{A}_k$ and $\\mathbf{M}_k$ are <i>equal up to scale</i>, i.e. $\\mathbf{A}_k \\sim \\mathbf{M}_k$.</li>\n",
    "    <li>The two matrices $\\mathbf{A}_k$ and $\\mathbf{M}_k$ have <i>the same null space</i>, i.e. $\\mathbf{A}_k\\mathbf{z} = \\mathbf{0} \\iff \\mathbf{M}_k\\mathbf{z} = \\mathbf{0}$.</li>\n",
    "    <li>The matrix $\\mathbf{A}_k$ can be turned into $\\mathbf{M}_k$ if we are allowed to both (i) reorder the rows, and (ii) change the sign of suitable rows.</li>\n",
    "    <li>The matrix $\\mathbf{A}_k$ can be turned into $\\mathbf{M}_k$ if we are allowed to both (i) reorder the columns, and (ii) change the sign of suitable columns.</li>\n",
    "</ol>"
   ]
  },
  {
   "cell_type": "code",
   "execution_count": 5,
   "metadata": {
    "deletable": false,
    "nbgrader": {
     "cell_type": "code",
     "checksum": "5648b2a05ab0ec764ba19a635ceee94b",
     "grade": false,
     "grade_id": "cell-question-3-answer",
     "locked": false,
     "schema_version": 3,
     "solution": true,
     "task": false
    }
   },
   "outputs": [],
   "source": [
    "# Set the variable 'answer' to a string containing the labels of all the true statements above.\n",
    "# For example, if you believe A and C are the only true statements, you should write:\n",
    "#\n",
    "# answer = 'AC'\n",
    "\n",
    "# YOUR CODE HERE\n",
    "answer = 'CD'"
   ]
  },
  {
   "cell_type": "code",
   "execution_count": 6,
   "metadata": {
    "deletable": false,
    "editable": false,
    "nbgrader": {
     "cell_type": "code",
     "checksum": "621df9d0fb905c73cbe449b1f30b0ec6",
     "grade": true,
     "grade_id": "cell-question-3-check",
     "locked": true,
     "points": 1,
     "schema_version": 3,
     "solution": false,
     "task": false
    }
   },
   "outputs": [],
   "source": [
    "# This cell checks your answer when submitted. Please ignore."
   ]
  },
  {
   "cell_type": "code",
   "execution_count": 7,
   "metadata": {},
   "outputs": [
    {
     "data": {
      "text/latex": [
       "$\\displaystyle \\left[\\begin{matrix}0 & - u_{k} & u_{k} v'_{k} & 0 & - v_{k} & v'_{k} v_{k} & 0 & -1 & v'_{k}\\\\u_{k} & 0 & - u'_{k} u_{k} & v_{k} & 0 & - u'_{k} v_{k} & 1 & 0 & - u'_{k}\\end{matrix}\\right]$"
      ],
      "text/plain": [
       "Matrix([\n",
       "[  0, -u_k,  u_k*v'_k,   0, -v_k,  v'_k*v_k, 0, -1,  v'_k],\n",
       "[u_k,    0, -u'_k*u_k, v_k,    0, -u'_k*v_k, 1,  0, -u'_k]])"
      ]
     },
     "execution_count": 7,
     "metadata": {},
     "output_type": "execute_result"
    }
   ],
   "source": [
    "# The code in this cell creates and displays the matrix M_k in Question 3.\n",
    "\n",
    "# Disguise parts of sympy as numpy (np), so most of the code can be used in numpy without any changes.\n",
    "# This is generally a bad idea: if you trick the computer, it will likely seek revenge!\n",
    "import sympy as np\n",
    "np.kron = np.kronecker_product\n",
    "np.array = np.Matrix\n",
    "\n",
    "# Define the cross product matrix.\n",
    "def crossm(v):\n",
    "    \"\"\"crossm(v) returns the cross product matrix of v\"\"\"\n",
    "    assert np.prod(v.shape) == 3\n",
    "    return np.array([[0,-v[2],v[1]],[v[2],0,-v[0]],[-v[1],v[0],0]])\n",
    "\n",
    "# Define symbolic variables. This cannot be done in numpy.\n",
    "(u,v,uprime,vprime) = np.symbols(\"u_k v_k u'_k v'_k\")\n",
    "\n",
    "# Create the point correspondence.\n",
    "y = np.array([u,v,1])\n",
    "yprime = np.array([uprime,vprime,1])\n",
    "\n",
    "# Form and display M_k.\n",
    "M_k = np.kron(y.T,crossm(yprime))[:2,:]\n",
    "M_k"
   ]
  },
  {
   "cell_type": "markdown",
   "metadata": {
    "deletable": false,
    "editable": false,
    "nbgrader": {
     "cell_type": "markdown",
     "checksum": "3ca88a91144203b3d2fa254295c34629",
     "grade": false,
     "grade_id": "cell-question-4-options",
     "locked": true,
     "schema_version": 3,
     "solution": false,
     "task": false
    }
   },
   "source": [
    "## Question 4: Linear Least-Squares and the Singular Value Decomposition (SVD)\n",
    "\n",
    "Which of the following statements are true?\n",
    "(Give your answer in the next cell.)\n",
    "<ol style=\"list-style-type: upper-alpha;\">\n",
    "    <li>If $\\mathbf{A} = \\mathbf{U}\\mathbf{S}\\mathbf{V}^\\top$ is an SVD of $\\mathbf{A}$, then $\\operatorname{rank}{\\mathbf{A}}$ is equal to the number of non-zero <i>singular values</i> (i.e. the entries on the main diagonal in $\\mathbf{S}$).</li>\n",
    "    <li>If $\\mathbf{A}$ has an $q$-dimensional (right) null space, and $\\mathbf{A} = \\mathbf{U}\\mathbf{S}\\mathbf{V}^\\top$ is an SVD of $\\mathbf{A}$, then the $q$ rightmost columns in $\\mathbf{V}$ span this null space.</li>\n",
    "    <li>The cost function $\\varepsilon(\\mathbf{x}) = \\lVert \\mathbf{A}\\mathbf{x} - \\mathbf{b} \\rVert^2$ can only be minimised with respect to $\\mathbf{x}$ when $\\mathbf{b} \\in \\mathbb{R}^m$ can be written as a linear combination of the columns of $\\mathbf{A} \\in \\mathbb{R}^{m \\times n}$.</li>\n",
    "    <li>If $\\mathbf{A}^+$ denotes the <i>pseudo-inverse</i> of $\\mathbf{A}$, then $\\mathbf{x} = \\mathbf{A}^+\\mathbf{b}$ is a minimiser of the cost function $\\varepsilon(\\mathbf{x}) = \\lVert \\mathbf{A}\\mathbf{x} - \\mathbf{b} \\rVert^2$, and $\\mathbf{x}$ is guaranteed to be a minimiser with <i>unit norm</i>, i.e. $\\lVert \\mathbf{x} \\rVert = 1$.</li>\n",
    "    <li>If $\\mathbf{A}^+$ denotes the <i>pseudo-inverse</i> of $\\mathbf{A}$, then $\\mathbf{x} = \\mathbf{A}^+\\mathbf{b}$ is a minimiser of the cost function $\\varepsilon(\\mathbf{x}) = \\lVert \\mathbf{A}\\mathbf{x} - \\mathbf{b} \\rVert^2$, and $\\mathbf{x}$ is guaranteed to be the minimiser with <i>smallest norm</i> $\\lVert \\mathbf{x} \\rVert$.</li>\n",
    "</ol>"
   ]
  },
  {
   "cell_type": "code",
   "execution_count": 8,
   "metadata": {
    "deletable": false,
    "nbgrader": {
     "cell_type": "code",
     "checksum": "b106d1b69da63b4641bb2ae3dc547584",
     "grade": false,
     "grade_id": "cell-question-4-answer",
     "locked": false,
     "schema_version": 3,
     "solution": true,
     "task": false
    }
   },
   "outputs": [],
   "source": [
    "# Set the variable 'answer' to a string containing the labels of all the true statements above.\n",
    "# For example, if you believe A and C are the only true statements, you should write:\n",
    "#\n",
    "# answer = 'AC'\n",
    "\n",
    "# YOUR CODE HERE\n",
    "answer ='ABE'"
   ]
  },
  {
   "cell_type": "code",
   "execution_count": 9,
   "metadata": {
    "deletable": false,
    "editable": false,
    "nbgrader": {
     "cell_type": "code",
     "checksum": "8a1e7e7a29d8d4b448be081570c06fa7",
     "grade": true,
     "grade_id": "cell-question-4-check",
     "locked": true,
     "points": 1,
     "schema_version": 3,
     "solution": false,
     "task": false
    }
   },
   "outputs": [],
   "source": [
    "# This cell checks your answer when submitted. Please ignore."
   ]
  }
 ],
 "metadata": {
  "kernelspec": {
   "display_name": "Python 3 (ipykernel)",
   "language": "python",
   "name": "python3"
  },
  "language_info": {
   "codemirror_mode": {
    "name": "ipython",
    "version": 3
   },
   "file_extension": ".py",
   "mimetype": "text/x-python",
   "name": "python",
   "nbconvert_exporter": "python",
   "pygments_lexer": "ipython3",
   "version": "3.10.9"
  }
 },
 "nbformat": 4,
 "nbformat_minor": 4
}
